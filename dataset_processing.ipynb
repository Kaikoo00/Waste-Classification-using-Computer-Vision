{
 "cells": [
  {
   "cell_type": "code",
   "execution_count": 1,
   "metadata": {},
   "outputs": [],
   "source": [
    "import os\n",
    "import shutil\n",
    "\n",
    "def combine_folders(source_folder, destination_folder):\n",
    "    # Ensure the destination folder exists\n",
    "    if not os.path.exists(destination_folder):\n",
    "        os.makedirs(destination_folder)\n",
    "    \n",
    "    # Loop through all files in the source folder\n",
    "    for file_name in os.listdir(source_folder):\n",
    "        source_file = os.path.join(source_folder, file_name)\n",
    "        destination_file = os.path.join(destination_folder, file_name)\n",
    "\n",
    "        # Check if a file with the same name exists in the destination folder\n",
    "        if os.path.isfile(destination_file):\n",
    "            # If file exists, append a number to the file name to avoid overwriting\n",
    "            base_name, extension = os.path.splitext(file_name)\n",
    "            count = 1\n",
    "            while os.path.exists(destination_file):\n",
    "                destination_file = os.path.join(destination_folder, f\"{base_name}_{count}{extension}\")\n",
    "                count += 1\n",
    "        \n",
    "        # Copy the file from the source folder to the destination folder\n",
    "        shutil.copy2(source_file, destination_file)\n",
    "\n",
    "# combine_folders(\"image_dataset\\\\paper2\", \"image_dataset\\\\paper\")"
   ]
  },
  {
   "cell_type": "code",
   "execution_count": 2,
   "metadata": {},
   "outputs": [
    {
     "data": {
      "text/html": [
       "<div>\n",
       "<style scoped>\n",
       "    .dataframe tbody tr th:only-of-type {\n",
       "        vertical-align: middle;\n",
       "    }\n",
       "\n",
       "    .dataframe tbody tr th {\n",
       "        vertical-align: top;\n",
       "    }\n",
       "\n",
       "    .dataframe thead th {\n",
       "        text-align: right;\n",
       "    }\n",
       "</style>\n",
       "<table border=\"1\" class=\"dataframe\">\n",
       "  <thead>\n",
       "    <tr style=\"text-align: right;\">\n",
       "      <th></th>\n",
       "      <th>np_array</th>\n",
       "      <th>label</th>\n",
       "    </tr>\n",
       "  </thead>\n",
       "  <tbody>\n",
       "    <tr>\n",
       "      <th>0</th>\n",
       "      <td>[[[189, 199, 206], [189, 199, 206], [189, 199,...</td>\n",
       "      <td>battery</td>\n",
       "    </tr>\n",
       "    <tr>\n",
       "      <th>1</th>\n",
       "      <td>[[[255, 255, 255], [255, 255, 255], [255, 255,...</td>\n",
       "      <td>battery</td>\n",
       "    </tr>\n",
       "    <tr>\n",
       "      <th>2</th>\n",
       "      <td>[[[151, 156, 165], [148, 153, 162], [148, 153,...</td>\n",
       "      <td>battery</td>\n",
       "    </tr>\n",
       "    <tr>\n",
       "      <th>3</th>\n",
       "      <td>[[[255, 255, 255], [255, 255, 255], [255, 255,...</td>\n",
       "      <td>battery</td>\n",
       "    </tr>\n",
       "    <tr>\n",
       "      <th>4</th>\n",
       "      <td>[[[255, 255, 255], [255, 255, 255], [255, 255,...</td>\n",
       "      <td>battery</td>\n",
       "    </tr>\n",
       "  </tbody>\n",
       "</table>\n",
       "</div>"
      ],
      "text/plain": [
       "                                            np_array    label\n",
       "0  [[[189, 199, 206], [189, 199, 206], [189, 199,...  battery\n",
       "1  [[[255, 255, 255], [255, 255, 255], [255, 255,...  battery\n",
       "2  [[[151, 156, 165], [148, 153, 162], [148, 153,...  battery\n",
       "3  [[[255, 255, 255], [255, 255, 255], [255, 255,...  battery\n",
       "4  [[[255, 255, 255], [255, 255, 255], [255, 255,...  battery"
      ]
     },
     "execution_count": 2,
     "metadata": {},
     "output_type": "execute_result"
    }
   ],
   "source": [
    "import cv2\n",
    "import pandas as pd\n",
    "import os\n",
    "\n",
    "# Initialize DataFrame with columns\n",
    "df = pd.DataFrame(columns=['np_array', 'label'])\n",
    "\n",
    "# Loop through folders (labels)\n",
    "for folder in os.listdir(\"image_dataset\"):\n",
    "    # Loop through images in each folder\n",
    "    if folder == \"plastic.zip\":\n",
    "        continue\n",
    "    for image in os.listdir(\"image_dataset\\\\\" + folder):\n",
    "        # Read the image as a NumPy array\n",
    "        np_array_image = cv2.imread(\"image_dataset\\\\\" + folder + \"\\\\\" + image)\n",
    "        \n",
    "        # Create a temporary DataFrame for the current image and label\n",
    "        temp_df = pd.DataFrame([[np_array_image, folder]], columns=['np_array', 'label'])\n",
    "        \n",
    "        # Append the temporary DataFrame to the main DataFrame\n",
    "        df = pd.concat([df, temp_df], ignore_index=True)\n",
    "\n",
    "# Show the first few rows of the DataFrame\n",
    "df.head()"
   ]
  },
  {
   "cell_type": "code",
   "execution_count": 3,
   "metadata": {},
   "outputs": [
    {
     "name": "stdout",
     "output_type": "stream",
     "text": [
      "<class 'pandas.core.frame.DataFrame'>\n",
      "RangeIndex: 20268 entries, 0 to 20267\n",
      "Data columns (total 2 columns):\n",
      " #   Column    Non-Null Count  Dtype \n",
      "---  ------    --------------  ----- \n",
      " 0   np_array  20268 non-null  object\n",
      " 1   label     20268 non-null  object\n",
      "dtypes: object(2)\n",
      "memory usage: 316.8+ KB\n"
     ]
    }
   ],
   "source": [
    "df.info()"
   ]
  },
  {
   "cell_type": "code",
   "execution_count": 4,
   "metadata": {},
   "outputs": [],
   "source": [
    "df.to_csv(\"dataset.csv\")"
   ]
  },
  {
   "cell_type": "code",
   "execution_count": 5,
   "metadata": {},
   "outputs": [],
   "source": [
    "import pandas as pd\n",
    "dataset = pd.read_csv(\"dataset.csv\")"
   ]
  },
  {
   "cell_type": "code",
   "execution_count": 6,
   "metadata": {},
   "outputs": [
    {
     "data": {
      "text/html": [
       "<div>\n",
       "<style scoped>\n",
       "    .dataframe tbody tr th:only-of-type {\n",
       "        vertical-align: middle;\n",
       "    }\n",
       "\n",
       "    .dataframe tbody tr th {\n",
       "        vertical-align: top;\n",
       "    }\n",
       "\n",
       "    .dataframe thead th {\n",
       "        text-align: right;\n",
       "    }\n",
       "</style>\n",
       "<table border=\"1\" class=\"dataframe\">\n",
       "  <thead>\n",
       "    <tr style=\"text-align: right;\">\n",
       "      <th></th>\n",
       "      <th>Unnamed: 0</th>\n",
       "      <th>np_array</th>\n",
       "      <th>label</th>\n",
       "    </tr>\n",
       "  </thead>\n",
       "  <tbody>\n",
       "    <tr>\n",
       "      <th>0</th>\n",
       "      <td>0</td>\n",
       "      <td>[[[189 199 206]\\n  [189 199 206]\\n  [189 199 2...</td>\n",
       "      <td>battery</td>\n",
       "    </tr>\n",
       "    <tr>\n",
       "      <th>1</th>\n",
       "      <td>1</td>\n",
       "      <td>[[[255 255 255]\\n  [255 255 255]\\n  [255 255 2...</td>\n",
       "      <td>battery</td>\n",
       "    </tr>\n",
       "    <tr>\n",
       "      <th>2</th>\n",
       "      <td>2</td>\n",
       "      <td>[[[151 156 165]\\n  [148 153 162]\\n  [148 153 1...</td>\n",
       "      <td>battery</td>\n",
       "    </tr>\n",
       "    <tr>\n",
       "      <th>3</th>\n",
       "      <td>3</td>\n",
       "      <td>[[[255 255 255]\\n  [255 255 255]\\n  [255 255 2...</td>\n",
       "      <td>battery</td>\n",
       "    </tr>\n",
       "    <tr>\n",
       "      <th>4</th>\n",
       "      <td>4</td>\n",
       "      <td>[[[255 255 255]\\n  [255 255 255]\\n  [255 255 2...</td>\n",
       "      <td>battery</td>\n",
       "    </tr>\n",
       "  </tbody>\n",
       "</table>\n",
       "</div>"
      ],
      "text/plain": [
       "   Unnamed: 0                                           np_array    label\n",
       "0           0  [[[189 199 206]\\n  [189 199 206]\\n  [189 199 2...  battery\n",
       "1           1  [[[255 255 255]\\n  [255 255 255]\\n  [255 255 2...  battery\n",
       "2           2  [[[151 156 165]\\n  [148 153 162]\\n  [148 153 1...  battery\n",
       "3           3  [[[255 255 255]\\n  [255 255 255]\\n  [255 255 2...  battery\n",
       "4           4  [[[255 255 255]\\n  [255 255 255]\\n  [255 255 2...  battery"
      ]
     },
     "execution_count": 6,
     "metadata": {},
     "output_type": "execute_result"
    }
   ],
   "source": [
    "dataset.head()"
   ]
  },
  {
   "cell_type": "code",
   "execution_count": 7,
   "metadata": {},
   "outputs": [
    {
     "name": "stdout",
     "output_type": "stream",
     "text": [
      "<class 'pandas.core.frame.DataFrame'>\n",
      "RangeIndex: 20268 entries, 0 to 20267\n",
      "Data columns (total 3 columns):\n",
      " #   Column      Non-Null Count  Dtype \n",
      "---  ------      --------------  ----- \n",
      " 0   Unnamed: 0  20268 non-null  int64 \n",
      " 1   np_array    20268 non-null  object\n",
      " 2   label       20268 non-null  object\n",
      "dtypes: int64(1), object(2)\n",
      "memory usage: 475.2+ KB\n"
     ]
    }
   ],
   "source": [
    "dataset.info()"
   ]
  },
  {
   "cell_type": "code",
   "execution_count": null,
   "metadata": {},
   "outputs": [],
   "source": []
  }
 ],
 "metadata": {
  "kernelspec": {
   "display_name": "Python 3",
   "language": "python",
   "name": "python3"
  },
  "language_info": {
   "codemirror_mode": {
    "name": "ipython",
    "version": 3
   },
   "file_extension": ".py",
   "mimetype": "text/x-python",
   "name": "python",
   "nbconvert_exporter": "python",
   "pygments_lexer": "ipython3",
   "version": "3.12.3"
  }
 },
 "nbformat": 4,
 "nbformat_minor": 2
}
